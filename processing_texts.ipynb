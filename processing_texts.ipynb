{
 "cells": [
  {
   "cell_type": "code",
   "execution_count": 96,
   "id": "717dfe5c-7327-4ec1-96a3-7d6737ded619",
   "metadata": {},
   "outputs": [],
   "source": [
    "#pip install transformers"
   ]
  },
  {
   "cell_type": "code",
   "execution_count": 1,
   "id": "69ee8c0e-1b36-45d2-8738-32fe4cf2583e",
   "metadata": {},
   "outputs": [],
   "source": [
    "import pandas as pd\n",
    "import numpy as np\n",
    "import matplotlib.pyplot as plt\n",
    "import torch\n",
    "from torch.utils.data import Dataset, DataLoader\n",
    "from torch import nn, optim\n",
    "from sklearn.model_selection import train_test_split, StratifiedKFold\n",
    "from sklearn.metrics import accuracy_score, precision_score, recall_score, f1_score\n",
    "from transformers import AutoTokenizer, AutoModel\n",
    "import torchxrayvision as xrv\n",
    "import time\n",
    "from collections import Counter"
   ]
  },
  {
   "cell_type": "code",
   "execution_count": 98,
   "id": "e1ed872f-a384-42cd-b0e1-ded570387680",
   "metadata": {},
   "outputs": [],
   "source": [
    "#!git clone https://github.com/ieee8023/covid-chestxray-dataset"
   ]
  },
  {
   "cell_type": "code",
   "execution_count": 2,
   "id": "af04fc5c-dddf-41b8-bf03-7877c4bd86b8",
   "metadata": {},
   "outputs": [],
   "source": [
    "data = xrv.datasets.COVID19_Dataset(imgpath=\"covid-chestxray-dataset/images/\",csvpath=\"covid-chestxray-dataset/metadata.csv\")"
   ]
  },
  {
   "cell_type": "code",
   "execution_count": 3,
   "id": "0a1797b8-7016-4fce-893b-755187bca2bb",
   "metadata": {},
   "outputs": [
    {
     "name": "stdout",
     "output_type": "stream",
     "text": [
      "{'Aspergillosis': {np.float32(0.0): 534, np.float32(1.0): 1},\n",
      " 'Aspiration': {np.float32(0.0): 534, np.float32(1.0): 1},\n",
      " 'Bacterial': {np.float32(0.0): 487, np.float32(1.0): 48},\n",
      " 'COVID-19': {np.float32(0.0): 193, np.float32(1.0): 342},\n",
      " 'Chlamydophila': {np.float32(0.0): 534, np.float32(1.0): 1},\n",
      " 'Fungal': {np.float32(0.0): 512, np.float32(1.0): 23},\n",
      " 'H1N1': {np.float32(0.0): 534, np.float32(1.0): 1},\n",
      " 'Herpes ': {np.float32(0.0): 532, np.float32(1.0): 3},\n",
      " 'Influenza': {np.float32(0.0): 531, np.float32(1.0): 4},\n",
      " 'Klebsiella': {np.float32(0.0): 526, np.float32(1.0): 9},\n",
      " 'Legionella': {np.float32(0.0): 526, np.float32(1.0): 9},\n",
      " 'Lipoid': {np.float32(0.0): 527, np.float32(1.0): 8},\n",
      " 'MERS-CoV': {np.float32(0.0): 527, np.float32(1.0): 8},\n",
      " 'MRSA': {np.float32(0.0): 534, np.float32(1.0): 1},\n",
      " 'Mycoplasma': {np.float32(0.0): 530, np.float32(1.0): 5},\n",
      " 'No Finding': {np.float32(0.0): 520, np.float32(1.0): 15},\n",
      " 'Nocardia': {np.float32(0.0): 531, np.float32(1.0): 4},\n",
      " 'Pneumocystis': {np.float32(0.0): 513, np.float32(1.0): 22},\n",
      " 'Pneumonia': {np.float32(0.0): 26, np.float32(1.0): 509},\n",
      " 'SARS': {np.float32(0.0): 519, np.float32(1.0): 16},\n",
      " 'Staphylococcus': {np.float32(0.0): 534, np.float32(1.0): 1},\n",
      " 'Streptococcus': {np.float32(0.0): 518, np.float32(1.0): 17},\n",
      " 'Tuberculosis': {np.float32(0.0): 524, np.float32(1.0): 11},\n",
      " 'Varicella': {np.float32(0.0): 530, np.float32(1.0): 5},\n",
      " 'Viral': {np.float32(0.0): 157, np.float32(1.0): 378}}\n"
     ]
    },
    {
     "data": {
      "text/plain": [
       "COVID19_Dataset num_samples=535 views=['PA', 'AP'] data_aug=None"
      ]
     },
     "execution_count": 3,
     "metadata": {},
     "output_type": "execute_result"
    }
   ],
   "source": [
    "data"
   ]
  },
  {
   "cell_type": "code",
   "execution_count": 4,
   "id": "59441a60-b50c-4b9e-8745-3730864cb79a",
   "metadata": {},
   "outputs": [],
   "source": [
    "df = data.csv"
   ]
  },
  {
   "cell_type": "code",
   "execution_count": 5,
   "id": "ad8c2f1c-0b7f-4346-9429-31b9075e106a",
   "metadata": {},
   "outputs": [],
   "source": [
    "labels = []\n",
    "for i in range(len(data)):\n",
    "    pd.Series(dict(zip(data.pathologies,data[i][\"lab\"])))\n",
    "    labels.append(pd.Series(dict(zip(data.pathologies,data[i][\"lab\"]))))\n",
    "\n",
    "labels = pd.DataFrame(labels)"
   ]
  },
  {
   "cell_type": "code",
   "execution_count": 6,
   "id": "af69fab8-d002-434e-b1fd-60007ce0e0ed",
   "metadata": {},
   "outputs": [],
   "source": [
    "labels = labels['COVID-19']"
   ]
  },
  {
   "cell_type": "code",
   "execution_count": 7,
   "id": "56f85704-54ea-4bca-b0ff-45703075f756",
   "metadata": {},
   "outputs": [
    {
     "data": {
      "text/plain": [
       "0      On January 22, 2020, a 65-year-old man with a ...\n",
       "1      On January 22, 2020, a 65-year-old man with a ...\n",
       "2      On January 22, 2020, a 65-year-old man with a ...\n",
       "3      On January 22, 2020, a 65-year-old man with a ...\n",
       "4       diffuse infiltrates in the bilateral lower lungs\n",
       "                             ...                        \n",
       "530    Decreased SpO2, elevated CRP and WBC, diffuse ...\n",
       "531    Asthmatic. Shortness of breath and wheeze. Rou...\n",
       "532    Asthmatic. Shortness of breath and wheeze. The...\n",
       "533    fire-eater accidentally ingested a paraffin mi...\n",
       "534    The patient, a heavy smoker, was referred to t...\n",
       "Name: clinical_notes, Length: 535, dtype: object"
      ]
     },
     "execution_count": 7,
     "metadata": {},
     "output_type": "execute_result"
    }
   ],
   "source": [
    "df['clinical_notes']"
   ]
  },
  {
   "cell_type": "code",
   "execution_count": 8,
   "id": "f902248e-05d2-4337-b989-5d42cfec0f1d",
   "metadata": {},
   "outputs": [
    {
     "name": "stdout",
     "output_type": "stream",
     "text": [
      "0      1.0\n",
      "1      1.0\n",
      "2      1.0\n",
      "3      1.0\n",
      "4      1.0\n",
      "      ... \n",
      "530    0.0\n",
      "531    0.0\n",
      "532    0.0\n",
      "533    0.0\n",
      "534    0.0\n",
      "Name: COVID-19, Length: 535, dtype: float32\n"
     ]
    }
   ],
   "source": [
    "print(labels)"
   ]
  },
  {
   "cell_type": "code",
   "execution_count": null,
   "id": "9681c167-5a8f-47f2-b7ab-0cb98d61709a",
   "metadata": {},
   "outputs": [],
   "source": [
    "#eu reutilizei esse código pra todos os quatro modelos de texto que experimentei, \n",
    "#só trocando o path do tokenizer e o nome do modelo na classe Classifier\n",
    "#por isso, aparece só um aqui, o último que testei. "
   ]
  },
  {
   "cell_type": "code",
   "execution_count": 103,
   "id": "b2c567a9-8a59-44f3-bf11-ed48b966c2d1",
   "metadata": {},
   "outputs": [],
   "source": [
    "tokenizer = AutoTokenizer.from_pretrained('microsoft/BiomedNLP-PubMedBERT-base-uncased-abstract-fulltext')\n",
    "pbmbert_model = AutoModel.from_pretrained('microsoft/BiomedNLP-PubMedBERT-base-uncased-abstract-fulltext')"
   ]
  },
  {
   "cell_type": "code",
   "execution_count": 104,
   "id": "9ecb611f-176e-4ec8-a9b8-eb02514e4a76",
   "metadata": {},
   "outputs": [],
   "source": [
    "X_temp, X_test, y_temp, y_test = train_test_split(df, labels, \n",
    "                                                  test_size=0.15, \n",
    "                                                  stratify=labels, \n",
    "                                                  random_state=12)\n",
    "\n",
    "X_train, X_val, y_train, y_val = train_test_split(X_temp, y_temp, \n",
    "                                                  test_size=0.12, \n",
    "                                                  stratify=y_temp, \n",
    "                                                  random_state=33)"
   ]
  },
  {
   "cell_type": "code",
   "execution_count": 105,
   "id": "2953a92c-9a77-4e27-94a8-681d9b09c5a3",
   "metadata": {},
   "outputs": [],
   "source": [
    "#garantindo os tipos exigidos pelo modelo (nossos labels estavam como floats e ele não aceita)\n",
    "y_train = y_train.astype(int)\n",
    "y_val = y_val.astype(int)\n",
    "y_test = y_test.astype(int)"
   ]
  },
  {
   "cell_type": "code",
   "execution_count": 106,
   "id": "c231382d-195a-4e49-93e9-9b362802bf9a",
   "metadata": {},
   "outputs": [],
   "source": [
    "#criando dataset com as notas médicas\n",
    "class ClinicalNotesDataset(Dataset):\n",
    "    def __init__(self, df, labels, tokenizer, max_len):\n",
    "        self.texts = df['clinical_notes'].values\n",
    "        self.labels = labels.values \n",
    "        self.tokenizer = tokenizer\n",
    "        self.max_len = max_len\n",
    "\n",
    "    def __len__(self):\n",
    "        return len(self.texts)\n",
    "\n",
    "    def __getitem__(self, idx):\n",
    "        text = str(self.texts[idx])\n",
    "        label = self.labels[idx]\n",
    "\n",
    "        encoding = self.tokenizer.encode_plus(\n",
    "            text,\n",
    "            add_special_tokens=True,\n",
    "            max_length=self.max_len,\n",
    "            return_token_type_ids=False,\n",
    "            padding='max_length', #batchs de mesmo tamanho\n",
    "            truncation=True,\n",
    "            return_attention_mask=True,\n",
    "            return_tensors='pt',\n",
    "        )\n",
    "\n",
    "        return {\n",
    "            'input_ids': encoding['input_ids'].flatten(),\n",
    "            'attention_mask': encoding['attention_mask'].flatten(),\n",
    "            'labels': torch.tensor(label, dtype=torch.long)\n",
    "        }\n"
   ]
  },
  {
   "cell_type": "code",
   "execution_count": 107,
   "id": "c09d1fbe-ba56-4fd2-90f6-50abd4caba93",
   "metadata": {},
   "outputs": [],
   "source": [
    "#com a classe criada, instanciamos e criamos os datasets\n",
    "train_dataset = ClinicalNotesDataset(X_train, y_train, tokenizer, max_len=128)\n",
    "val_dataset = ClinicalNotesDataset(X_val, y_val, tokenizer, max_len=128)\n",
    "test_dataset = ClinicalNotesDataset(X_test, y_test, tokenizer, max_len=128)"
   ]
  },
  {
   "cell_type": "code",
   "execution_count": 108,
   "id": "ed9d8179-d307-4cca-a073-6d9afae75d81",
   "metadata": {},
   "outputs": [],
   "source": [
    "#e os data loaders\n",
    "train_loader = DataLoader(train_dataset, batch_size=18, shuffle=True)\n",
    "val_loader = DataLoader(val_dataset, batch_size=16, shuffle=False)\n",
    "test_loader = DataLoader(test_dataset, batch_size=16, shuffle=False)"
   ]
  },
  {
   "cell_type": "code",
   "execution_count": 109,
   "id": "a1948aab-74f9-4b38-9cc5-30ae0375da2d",
   "metadata": {},
   "outputs": [],
   "source": [
    "#modificando a classe do classificador\n",
    "class PBMClassifier(nn.Module):\n",
    "    def __init__(self, pbmbert_model):\n",
    "        super(PBMCBERTClassifier, self).__init__()\n",
    "        self.pbmbert = pbmbert_model\n",
    "        for param in self.pbmbert.parameters():\n",
    "            param.requires_grad = False #congelamos tudo para fazer só feature extraction primeiro\n",
    "#caso nenhum modelo tivesse resultado bom dessa forma, pensaríamos em descongelar alguns parametros progressivamente\n",
    "#mas essa era nossa última opção, porque o dataset era pequeno e duvidavamos muito que o modelo convergisse                        \n",
    "\n",
    "        self.classifier = nn.Sequential(\n",
    "                            nn.Linear(768, 256),\n",
    "                            nn.ReLU(),\n",
    "                            nn.Dropout(0.25),\n",
    "                            nn.Linear(256, 2)\n",
    "                        )  #colocamos uma camada bem simples aqui porque queríamos avaliar ao máximo o modelo, \n",
    "#e não misturar isso \"capacidade\" da camada fully connected\n",
    "\n",
    "    def forward(self, input_ids, attention_mask):\n",
    "        outputs = self.pbmbert(input_ids=input_ids, attention_mask=attention_mask)\n",
    "        pooled_output = outputs.pooler_output  #[CLS]\n",
    "        logits = self.classifier(pooled_output)\n",
    "        return logits"
   ]
  },
  {
   "cell_type": "code",
   "execution_count": 111,
   "id": "efb2d7d4-8704-4300-b2b7-3daea4e00b26",
   "metadata": {},
   "outputs": [],
   "source": [
    "device = torch.device('cuda' if torch.cuda.is_available() else 'cpu')"
   ]
  },
  {
   "cell_type": "code",
   "execution_count": 110,
   "id": "1b285378-2431-4b02-92a8-38e990e62233",
   "metadata": {},
   "outputs": [],
   "source": [
    "#essa função é a mesma que usamos com imagens, apenas adaptada\n",
    "def train_and_validate_text(model, loss_criterion, optimizer, epochs, dataset=\"pbmbert_text\",\n",
    "                            train_data_loader=train_loader, val_data_loader=val_loader, train_data_size=len(train_dataset),\n",
    "                            val_data_size=len(val_dataset), device=device):\n",
    "\n",
    "    start = time.time()\n",
    "    history = []\n",
    "    best_loss = 1e8\n",
    "    best_epoch = None\n",
    "\n",
    "    for epoch in range(epochs):\n",
    "        epoch_start = time.time()\n",
    "\n",
    "        model.train()\n",
    "\n",
    "        train_loss = 0.0\n",
    "        train_acc = 0.0\n",
    "        valid_loss = 0.0\n",
    "        valid_acc = 0.0\n",
    "\n",
    "        all_val_labels = []\n",
    "        all_val_predictions = []\n",
    "\n",
    "        # Loop de treino\n",
    "        for i, batch in enumerate(train_data_loader):\n",
    "            input_ids = batch['input_ids'].to(device)\n",
    "            attention_mask = batch['attention_mask'].to(device)\n",
    "            labels = batch['labels'].to(device)\n",
    "\n",
    "            optimizer.zero_grad()\n",
    "\n",
    "            outputs = model(input_ids=input_ids, attention_mask=attention_mask)\n",
    "\n",
    "            loss = loss_criterion(outputs, labels)\n",
    "\n",
    "            loss.backward()\n",
    "            optimizer.step()\n",
    "\n",
    "            train_loss += loss.item() * input_ids.size(0)\n",
    "\n",
    "            _, predictions = torch.max(outputs.data, 1)\n",
    "            correct_counts = predictions.eq(labels.data.view_as(predictions))\n",
    "            acc = torch.mean(correct_counts.type(torch.FloatTensor))\n",
    "            train_acc += acc.item() * input_ids.size(0)\n",
    "\n",
    "        #loop de validação\n",
    "        with torch.no_grad():\n",
    "            model.eval()\n",
    "\n",
    "            for j, batch in enumerate(val_data_loader):\n",
    "                input_ids = batch['input_ids'].to(device)\n",
    "                attention_mask = batch['attention_mask'].to(device)\n",
    "                labels = batch['labels'].to(device)\n",
    "\n",
    "                outputs = model(input_ids=input_ids, attention_mask=attention_mask)\n",
    "\n",
    "                loss = loss_criterion(outputs, labels)\n",
    "                valid_loss += loss.item() * input_ids.size(0)\n",
    "\n",
    "                _, predictions = torch.max(outputs.data, 1)\n",
    "                correct_counts = predictions.eq(labels.data.view_as(predictions))\n",
    "                acc = torch.mean(correct_counts.type(torch.FloatTensor))\n",
    "                valid_acc += acc.item() * input_ids.size(0)\n",
    "\n",
    "                all_val_labels.extend(labels.cpu().numpy())\n",
    "                all_val_predictions.extend(predictions.cpu().numpy())\n",
    "\n",
    "        if valid_loss < best_loss:\n",
    "            best_loss = valid_loss\n",
    "            best_epoch = epoch\n",
    "\n",
    "        avg_train_loss = train_loss / train_data_size\n",
    "        avg_train_acc = train_acc / train_data_size\n",
    "        avg_valid_loss = valid_loss / val_data_size\n",
    "        avg_valid_acc = valid_acc / val_data_size\n",
    "\n",
    "        recall_majority = recall_score(all_val_labels, all_val_predictions, pos_label=1)\n",
    "        sensitivity_minority = recall_score(all_val_labels, all_val_predictions, pos_label=0)\n",
    "        accuracy = accuracy_score(all_val_labels, all_val_predictions)\n",
    "\n",
    "        history.append([avg_train_loss, avg_valid_loss, avg_train_acc, avg_valid_acc, recall_majority])\n",
    "\n",
    "        epoch_end = time.time()\n",
    "        print(\"\\nEpoch {}/{}: {:03d}, Training: Loss - {:.4f}, Accuracy - {:.4f}%, \\n\\t      Validation: Loss - {:.4f}, Accuracy - {:.4f}% \\nRecall (COVID) - {:.4f}, Sensitivity (SEM COVID) - {:.4f}, Time: {:.4f}s\".format(\n",
    "            epoch + 1, epochs, epoch, avg_train_loss, avg_train_acc * 100, avg_valid_loss, avg_valid_acc * 100, recall_majority, sensitivity_minority, epoch_end - epoch_start))\n",
    "\n",
    "    return model, history, best_epoch"
   ]
  },
  {
   "cell_type": "code",
   "execution_count": 112,
   "id": "fac5104f-474f-4484-8222-302812f43b12",
   "metadata": {},
   "outputs": [],
   "source": [
    "model = CBERTClassifier(cbert_model).to(device)"
   ]
  },
  {
   "cell_type": "code",
   "execution_count": 119,
   "id": "aa6647da-77f3-49da-bfb7-1438cc25fabe",
   "metadata": {},
   "outputs": [],
   "source": [
    "#colocamos pesos diferentes pras classes na loss porque o dataset era desbalanceado \n",
    "#e tivemos muito o problema de a rede só chutar a classe majoritária e não aprender nada\n",
    "boost = 2.9\n",
    "counter = Counter(y_train)\n",
    "weight = (counter[0] / counter[1]) * boost"
   ]
  },
  {
   "cell_type": "code",
   "execution_count": 120,
   "id": "cd58d5b7-eea8-482e-9137-e75e5f52d09c",
   "metadata": {},
   "outputs": [
    {
     "name": "stdout",
     "output_type": "stream",
     "text": [
      "1.6376470588235292\n"
     ]
    }
   ],
   "source": [
    "print(weight)"
   ]
  },
  {
   "cell_type": "code",
   "execution_count": 124,
   "id": "679f6f8b-1b7a-4aed-9204-0fe950d8ddae",
   "metadata": {},
   "outputs": [],
   "source": [
    "criterion = nn.CrossEntropyLoss(weight=torch.tensor([weight, 1.0]).to(device))\n",
    "optimizer = optim.Adam(filter(lambda p: p.requires_grad, model.parameters()), lr=8e-5)"
   ]
  },
  {
   "cell_type": "code",
   "execution_count": 125,
   "id": "6a47483b-43ac-4ca0-bee4-e07c2535ca52",
   "metadata": {},
   "outputs": [
    {
     "name": "stdout",
     "output_type": "stream",
     "text": [
      "\n",
      "Epoch 1/10: 000, Training: Loss - 0.4877, Accuracy - 79.1980%, \n",
      "\t      Validation: Loss - 0.4575, Accuracy - 76.3636% \n",
      "Recall (COVID) - 0.7714, Sensitivity (SEM COVID) - 0.7500, Time: 33.2471s\n",
      "\n",
      "Epoch 2/10: 001, Training: Loss - 0.4755, Accuracy - 78.1955%, \n",
      "\t      Validation: Loss - 0.4552, Accuracy - 76.3636% \n",
      "Recall (COVID) - 0.7714, Sensitivity (SEM COVID) - 0.7500, Time: 33.0949s\n",
      "\n",
      "Epoch 3/10: 002, Training: Loss - 0.4885, Accuracy - 77.9449%, \n",
      "\t      Validation: Loss - 0.4516, Accuracy - 78.1818% \n",
      "Recall (COVID) - 0.8000, Sensitivity (SEM COVID) - 0.7500, Time: 32.9064s\n",
      "\n",
      "Epoch 4/10: 003, Training: Loss - 0.4851, Accuracy - 78.4461%, \n",
      "\t      Validation: Loss - 0.4583, Accuracy - 74.5455% \n",
      "Recall (COVID) - 0.7143, Sensitivity (SEM COVID) - 0.8000, Time: 32.8015s\n",
      "\n",
      "Epoch 5/10: 004, Training: Loss - 0.4712, Accuracy - 80.2005%, \n",
      "\t      Validation: Loss - 0.4496, Accuracy - 76.3636% \n",
      "Recall (COVID) - 0.7714, Sensitivity (SEM COVID) - 0.7500, Time: 33.5877s\n",
      "\n",
      "Epoch 6/10: 005, Training: Loss - 0.4913, Accuracy - 78.1955%, \n",
      "\t      Validation: Loss - 0.4482, Accuracy - 76.3636% \n",
      "Recall (COVID) - 0.8000, Sensitivity (SEM COVID) - 0.7000, Time: 32.7558s\n",
      "\n",
      "Epoch 7/10: 006, Training: Loss - 0.4801, Accuracy - 78.9474%, \n",
      "\t      Validation: Loss - 0.4460, Accuracy - 76.3636% \n",
      "Recall (COVID) - 0.8000, Sensitivity (SEM COVID) - 0.7000, Time: 32.8780s\n",
      "\n",
      "Epoch 8/10: 007, Training: Loss - 0.4688, Accuracy - 79.4486%, \n",
      "\t      Validation: Loss - 0.4449, Accuracy - 74.5455% \n",
      "Recall (COVID) - 0.7429, Sensitivity (SEM COVID) - 0.7500, Time: 32.8697s\n",
      "\n",
      "Epoch 9/10: 008, Training: Loss - 0.4838, Accuracy - 79.6992%, \n",
      "\t      Validation: Loss - 0.4436, Accuracy - 74.5455% \n",
      "Recall (COVID) - 0.7429, Sensitivity (SEM COVID) - 0.7500, Time: 32.8346s\n",
      "\n",
      "Epoch 10/10: 009, Training: Loss - 0.4734, Accuracy - 79.9499%, \n",
      "\t      Validation: Loss - 0.4420, Accuracy - 72.7273% \n",
      "Recall (COVID) - 0.7429, Sensitivity (SEM COVID) - 0.7000, Time: 33.1016s\n"
     ]
    }
   ],
   "source": [
    "trained_model, history, best_epoch = train_and_validate_text(\n",
    "    model=model,\n",
    "    loss_criterion=criterion,\n",
    "    optimizer=optimizer,\n",
    "    epochs=10)"
   ]
  },
  {
   "cell_type": "code",
   "execution_count": 120,
   "id": "76b794ad-9052-4966-a7d2-3b0be696492a",
   "metadata": {},
   "outputs": [
    {
     "data": {
      "image/png": "[encoded data removed]",
      "text/plain": [
       "<Figure size 640x480 with 1 Axes>"
      ]
     },
     "metadata": {},
     "output_type": "display_data"
    }
   ],
   "source": [
    "history = np.array(history)\n",
    "plt.plot(history[:,0:2])\n",
    "plt.legend(['Train Loss', 'Validation Loss'])\n",
    "plt.xlabel('Epoch')\n",
    "plt.ylabel('Loss')\n",
    "plt.ylim(0.4, 0.6)\n",
    "plt.show()"
   ]
  },
  {
   "cell_type": "code",
   "execution_count": 121,
   "id": "9b4f78df-42ad-4989-8d46-97638d4c4d24",
   "metadata": {},
   "outputs": [
    {
     "data": {
      "image/png": "[encoded data removed]",
      "text/plain": [
       "<Figure size 640x480 with 1 Axes>"
      ]
     },
     "metadata": {},
     "output_type": "display_data"
    }
   ],
   "source": [
    "plt.plot(history[:,2:4])\n",
    "plt.legend(['Train Accuracy', 'Validation Accuracy'])\n",
    "plt.xlabel('Epoch')\n",
    "plt.ylabel('Accuracy')\n",
    "plt.show()"
   ]
  },
  {
   "cell_type": "code",
   "execution_count": 123,
   "id": "0138df21-c05d-4096-9d0b-a57ee1a0d7d2",
   "metadata": {},
   "outputs": [],
   "source": [
    "torch.save(model.state_dict(), 'pbmbert_model_toupdate.pth')"
   ]
  },
  {
   "cell_type": "code",
   "execution_count": null,
   "id": "f305111c-79ca-43ff-a08e-ad3790f2fc6c",
   "metadata": {},
   "outputs": [],
   "source": []
  },
  {
   "cell_type": "code",
   "execution_count": null,
   "id": "588a4d8b-738f-4ec3-b8b9-885966e51e15",
   "metadata": {},
   "outputs": [],
   "source": []
  },
  {
   "cell_type": "code",
   "execution_count": null,
   "id": "536c7ebd-33ad-4e0b-8f58-9111b0550157",
   "metadata": {},
   "outputs": [],
   "source": []
  },
  {
   "cell_type": "code",
   "execution_count": null,
   "id": "9aa98b53-0b8f-4b93-a359-fefaf2316ab4",
   "metadata": {},
   "outputs": [],
   "source": []
  },
  {
   "cell_type": "code",
   "execution_count": null,
   "id": "1c59db4b-35a6-4caa-a0e1-4c683a99cad0",
   "metadata": {},
   "outputs": [],
   "source": []
  },
  {
   "cell_type": "code",
   "execution_count": null,
   "id": "41643b0d-e27e-4fe9-8775-2fd1cd58aeab",
   "metadata": {},
   "outputs": [],
   "source": []
  }
 ],
 "metadata": {
  "kernelspec": {
   "display_name": "Python 3 (ipykernel)",
   "language": "python",
   "name": "python3"
  },
  "language_info": {
   "codemirror_mode": {
    "name": "ipython",
    "version": 3
   },
   "file_extension": ".py",
   "mimetype": "text/x-python",
   "name": "python",
   "nbconvert_exporter": "python",
   "pygments_lexer": "ipython3",
   "version": "3.13.1"
  }
 },
 "nbformat": 4,
 "nbformat_minor": 5
}
